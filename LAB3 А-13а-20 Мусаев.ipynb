{
 "cells": [
  {
   "cell_type": "markdown",
   "id": "f2d44af7",
   "metadata": {},
   "source": [
    "# Лабораторная работа № 3\n",
    "## Мусаев Артур\n",
    "## А-13а-20\n",
    "### Вариант № 16"
   ]
  },
  {
   "cell_type": "markdown",
   "id": "f9df39a2",
   "metadata": {},
   "source": [
    "Задача 3.1.  Реализовать решение СЛАУ с помощью LU разложения и LU разложения по схеме частичного выбора. Решить систему небольшой размерности с возмущенной матрицей обоими методами, оценить погрешность и сравнить с теоретической оценкой. Проанализировать поведение  методов с ростом числа уравнений."
   ]
  },
  {
   "cell_type": "markdown",
   "id": "08ff49e3",
   "metadata": {},
   "source": [
    "N = 16, K = 1\\\n",
    "(N+K)mod2 = 1\\\n",
    "(N+K)mod4 = 1"
   ]
  },
  {
   "cell_type": "markdown",
   "id": "53255cec",
   "metadata": {},
   "source": [
    "$ A_{ij} = \\frac {1}{70 -3i -j} $"
   ]
  },
  {
   "cell_type": "code",
   "execution_count": 3,
   "id": "14ca209f",
   "metadata": {},
   "outputs": [],
   "source": [
    "import numpy as np\n",
    "import matplotlib.pyplot as plt\n",
    "from scipy import linalg as lg\n",
    "\n",
    "A = np.array([[(1/(70-3*i-j)) for j in range (5)] for i in range (5)])\n",
    "\n",
    "A_ = np.copy(A)\n",
    "A_[0][0] += 1e-3\n",
    "\n",
    "x = np.array([16]*5)\n",
    "\n",
    "b = A @ x\n"
   ]
  },
  {
   "cell_type": "markdown",
   "id": "11d5281f",
   "metadata": {},
   "source": [
    "Матрица A_ - матрица, в которой к одному элементу прибавили $ 10^{-3} $"
   ]
  },
  {
   "cell_type": "markdown",
   "id": "19f0e89b",
   "metadata": {},
   "source": [
    "Реализация LU разложения, которое меняет матрицу:"
   ]
  },
  {
   "cell_type": "code",
   "execution_count": 4,
   "id": "033cd8d9",
   "metadata": {},
   "outputs": [],
   "source": [
    "def A_LU(A, b):\n",
    "    A_buf = np.copy(A)\n",
    "    n = A.shape[0]\n",
    "    for k in range(n):                \n",
    "        for i in range(k+1,n):\n",
    "            A_buf[i][k] /= A_buf[k][k]\n",
    "            A_buf[i][k+1:] -= A_buf[i][k]*A_buf[k][k+1:]\n",
    "     \n",
    "\n",
    "    y = np.zeros(n)\n",
    "    x = np.zeros(n)\n",
    "    \n",
    "    for k in range(n):\n",
    "        y[k] = b[k] - np.dot(A_buf[k][:k],y[:k])\n",
    "        \n",
    "    for j in range(n-1, -1, -1):\n",
    "        x[j]=(y[j] - np.dot(A_buf[j,j:], x[j:]))/A_buf[j,j]\n",
    "    \n",
    "    return x\n",
    "        "
   ]
  },
  {
   "cell_type": "markdown",
   "id": "86893bde",
   "metadata": {},
   "source": [
    "Решение системы с матрицей A_:"
   ]
  },
  {
   "cell_type": "code",
   "execution_count": 5,
   "id": "8166046f",
   "metadata": {},
   "outputs": [
    {
     "name": "stdout",
     "output_type": "stream",
     "text": [
      "[ 3.38788354e-08  7.59898772e+01 -6.82565633e+01  6.85373187e+01\n",
      "  3.72934200e+00]\n"
     ]
    }
   ],
   "source": [
    "print(A_LU(A_, b))"
   ]
  },
  {
   "cell_type": "markdown",
   "id": "ccc357b0",
   "metadata": {},
   "source": [
    "Две функции, первая возвращает LU разложение с перестановками, вторая решает систему:"
   ]
  },
  {
   "cell_type": "code",
   "execution_count": 6,
   "id": "8959d42a",
   "metadata": {},
   "outputs": [],
   "source": [
    "def create_LU(A):\n",
    "    n = A.shape[0]\n",
    "    U2 = np.copy(A)\n",
    "    U = np.copy(A)\n",
    "    L = np.eye(n)\n",
    "    P = np.eye(n)\n",
    "    for k in range(n):\n",
    "        if U2[k, k] == 0.0:\n",
    "            P[[k, k+1]] = P[[k+1, k]]\n",
    "            U2 = P @ U\n",
    "        for i in range(k+1, n): \n",
    "            U2[i,:] -= U2[i, k] / U2[k, k] * U2[k,:]\n",
    "    \n",
    "    U=P@U\n",
    "    \n",
    "    for k in range(n):\n",
    "        for i in range(k+1, n): \n",
    "            lam = U[i, k] / U[k, k]\n",
    "            L[i, k] = lam\n",
    "            U[i,:] -= lam * U[k,:]\n",
    "            \n",
    "        \n",
    "    return (P@L, U)"
   ]
  },
  {
   "cell_type": "code",
   "execution_count": 7,
   "id": "be977540",
   "metadata": {},
   "outputs": [],
   "source": [
    "def solve_LU(L, U, b):\n",
    "    n = U.shape[0]\n",
    "    y = np.zeros(n)\n",
    "    x = np.zeros(n)\n",
    "    for k in range(n):\n",
    "        y[k] = b[k] - np.dot(L[k][:],y[:])\n",
    "    for j in range(n-1, -1, -1):\n",
    "        x[j] = (y[j] - np.dot(U[j,j+1:n], x[j+1:n]))/U[j,j]\n",
    "    return x\n",
    "    "
   ]
  },
  {
   "cell_type": "markdown",
   "id": "27495fdb",
   "metadata": {},
   "source": [
    "Решение системы с матрицей A_:"
   ]
  },
  {
   "cell_type": "code",
   "execution_count": 13,
   "id": "8bce4b5d",
   "metadata": {},
   "outputs": [
    {
     "name": "stdout",
     "output_type": "stream",
     "text": [
      "[ 3.38788354e-08  7.59898772e+01 -6.82565633e+01  6.85373187e+01\n",
      "  3.72934200e+00]\n"
     ]
    }
   ],
   "source": [
    "L, U = create_LU(A_)\n",
    "print(solve_LU(L, U, b))"
   ]
  },
  {
   "cell_type": "code",
   "execution_count": 14,
   "id": "35d4fa91",
   "metadata": {},
   "outputs": [],
   "source": [
    "def delta_x(x, x_def):\n",
    "    return lg.norm(x-x_def)/lg.norm(x)\n",
    "def delta(A, b, b_):\n",
    "    return np.linalg.cond(A) * ((1e-3)/lg.norm(A) + delta_x(b_, b))"
   ]
  },
  {
   "cell_type": "markdown",
   "id": "c46b3653",
   "metadata": {},
   "source": [
    "Вычисляем погрешности:"
   ]
  },
  {
   "cell_type": "code",
   "execution_count": 15,
   "id": "3dabbb99",
   "metadata": {},
   "outputs": [
    {
     "name": "stdout",
     "output_type": "stream",
     "text": [
      "57734250.71262292\n",
      "4703290203.960611\n",
      "0.9568082316571268\n"
     ]
    }
   ],
   "source": [
    "x2 = A_LU(A_, b)\n",
    "b_ = A_ @ x2\n",
    "print(delta(A_, b, b_))\n",
    "print(np.linalg.cond(A_))\n",
    "print(delta_x(x2, x))"
   ]
  },
  {
   "cell_type": "markdown",
   "id": "6137bb42",
   "metadata": {},
   "source": [
    "Как видно, число обусловленности матрицы огромное. Отсюда вытекает большая неточность в решении системы."
   ]
  },
  {
   "cell_type": "markdown",
   "id": "10b50976",
   "metadata": {},
   "source": [
    "Построим графики:"
   ]
  },
  {
   "cell_type": "code",
   "execution_count": 16,
   "id": "01292280",
   "metadata": {},
   "outputs": [],
   "source": [
    "delta_x1 = []\n",
    "delta_x2 = []\n",
    "#delta_x3 = []\n",
    "for n in range(5, 16):\n",
    "    An = np.array([[(1/(70-3*i-j)) for j in range (n)] for i in range (n)])\n",
    "    xn = np.array([16]*n)\n",
    "    bn = An @ xn\n",
    "    x1 = A_LU(An, bn)\n",
    "    Ln, Un = create_LU(An)\n",
    "    x2 = solve_LU(Ln, Un, bn)\n",
    "    #x3 = lg.solve(An,bn)\n",
    "    delta_x1.append(delta_x(x1,xn))\n",
    "    delta_x2.append(delta_x(x2,xn))\n",
    "    #delta_x3.append(delta_x(x3,xn))"
   ]
  },
  {
   "cell_type": "code",
   "execution_count": 17,
   "id": "1f2a3ff6",
   "metadata": {},
   "outputs": [
    {
     "data": {
      "text/plain": [
       "<matplotlib.legend.Legend at 0x1f0ab67db50>"
      ]
     },
     "execution_count": 17,
     "metadata": {},
     "output_type": "execute_result"
    },
    {
     "data": {
      "image/png": "[encoded data removed]",
      "text/plain": [
       "<Figure size 1080x360 with 2 Axes>"
      ]
     },
     "metadata": {
      "needs_background": "light"
     },
     "output_type": "display_data"
    }
   ],
   "source": [
    "fig, ax = plt.subplots(1,2, figsize = (15,5))\n",
    "ax[0].plot(range(5,16), delta_x1, color = 'red', ls = 'dashdot', label = '1-ый метод')\n",
    "ax[1].plot(range(5,16), delta_x2, color = 'blue', ls = 'dashdot', label = '2-ой метод')\n",
    "ax[0].legend()\n",
    "ax[1].legend()\n",
    "#ax[2].plot(range(5,16), delta_x3, color = 'green', ls = 'dashdot')"
   ]
  },
  {
   "cell_type": "markdown",
   "id": "5551b280",
   "metadata": {},
   "source": [
    "Как видно из графиков погрешности обоих методов получились одинаковыми.\\\n",
    "Это логично, ведь перестановки не должны влиять на точность решения."
   ]
  },
  {
   "cell_type": "markdown",
   "id": "6375a8d4",
   "metadata": {},
   "source": [
    "Задача 3.2 Дана система уравнений  Ax=b  порядка n с разреженной матрицей A. Решить систему прямым методом."
   ]
  },
  {
   "cell_type": "markdown",
   "id": "6abb6608",
   "metadata": {},
   "source": [
    "На  побочной диагонали  элементы  равны  100, элементы 5-го и 15-го столбцов равны 10."
   ]
  },
  {
   "cell_type": "markdown",
   "id": "3b60ff77",
   "metadata": {},
   "source": [
    "Ясно, что можно рассмотреть 45ю и 35ю строку. В этих строках все элементы будут равны нулю\\\n",
    "кроме $ x_5 $ и $ x_{15} $ Тогда сначала найдем решение системы с двумя уравнениями и двумя неизвестными.\\\n",
    "После чего сможем найти остальные неизвестные."
   ]
  },
  {
   "cell_type": "code",
   "execution_count": 18,
   "id": "aa7f1441",
   "metadata": {},
   "outputs": [],
   "source": [
    "def solve(p, q, b):\n",
    "    x = np.zeros(50)\n",
    "    x[4] = ((b[45]*q/p) - b[35])/(q*q/p - p)\n",
    "    x[14] = (b[35] - p*x[4])/q\n",
    "    for i in range(50):\n",
    "        if (i!=35) and (i!=45):\n",
    "            x[49-i] = ((b[i] - p * (x[4]) - p * (x[14]))/q)\n",
    "            \n",
    "    return x"
   ]
  },
  {
   "cell_type": "markdown",
   "id": "d8072fb0",
   "metadata": {},
   "source": [
    "Тестовый пример. Коэффициенты $ x_5 $ и $ x_{15} $ равны соответственно 2 и 1. Вектор b состоит из троек.\\\n",
    "Ясно, что $ x_5 = 1 $ и $ x_{15} = 1 $, а остальные $ x_{1..50} = -1 $ "
   ]
  },
  {
   "cell_type": "code",
   "execution_count": 19,
   "id": "283f5c22",
   "metadata": {},
   "outputs": [
    {
     "name": "stdout",
     "output_type": "stream",
     "text": [
      "[-1. -1. -1. -1.  1. -1. -1. -1. -1. -1. -1. -1. -1. -1.  1. -1. -1. -1.\n",
      " -1. -1. -1. -1. -1. -1. -1. -1. -1. -1. -1. -1. -1. -1. -1. -1. -1. -1.\n",
      " -1. -1. -1. -1. -1. -1. -1. -1. -1. -1. -1. -1. -1. -1.]\n"
     ]
    }
   ],
   "source": [
    "p_t = 2\n",
    "q_t = 1\n",
    "b_t = [3]*50\n",
    "print(solve(p_t, q_t, b_t))"
   ]
  },
  {
   "cell_type": "markdown",
   "id": "41f606bc",
   "metadata": {},
   "source": [
    "Решим задачу:"
   ]
  },
  {
   "cell_type": "code",
   "execution_count": 14,
   "id": "38f688f2",
   "metadata": {},
   "outputs": [
    {
     "name": "stdout",
     "output_type": "stream",
     "text": [
      "[5.15522165e-01 5.05755935e-01 4.96000134e-01 4.86255475e-01\n",
      " 5.29469709e-01 4.66802777e-01 4.57096528e-01 4.47405022e-01\n",
      " 4.37729398e-01 4.28070910e-01 4.18430952e-01 4.08811073e-01\n",
      " 3.99212995e-01 3.89638647e-01 4.22322433e-01 3.70570055e-01\n",
      " 3.61080988e-01 3.51626098e-01 3.42208927e-01 3.32833518e-01\n",
      " 3.23504513e-01 3.14227269e-01 3.05007995e-01 2.95853932e-01\n",
      " 2.86773576e-01 2.77776960e-01 2.68876017e-01 2.60085050e-01\n",
      " 2.51421349e-01 2.42906010e-01 2.34565040e-01 2.26430860e-01\n",
      " 2.18544406e-01 2.10958097e-01 2.03740139e-01 1.96980892e-01\n",
      " 1.90802576e-01 1.85374505e-01 1.80937893e-01 1.77847945e-01\n",
      " 1.76648969e-01 1.78216646e-01 1.84048222e-01 1.96912158e-01\n",
      " 2.22490189e-01 2.74273591e-01 3.92120544e-01 7.45769533e-01\n",
      " 2.87308397e+00 2.20169479e+02]\n"
     ]
    }
   ],
   "source": [
    "b = np.zeros(50)\n",
    "p = 10\n",
    "q = 100\n",
    "for i in range(50):\n",
    "    b[i] = (i+1) * np.exp(10/(i+1))\n",
    "print(solve(p, q, b))"
   ]
  },
  {
   "cell_type": "markdown",
   "id": "4d164a52",
   "metadata": {},
   "source": [
    "Задание 3.3"
   ]
  },
  {
   "cell_type": "markdown",
   "id": "c08da4f3",
   "metadata": {},
   "source": [
    "Элементы матрицы A задаются формулами: $ a_{ij} = \\frac{cos(i+j)}{0.1 \\beta} + 0.1 \\beta e^{-(i-j)^2} $,\\\n",
    "Параметр $ \\beta = (|66-N|+5)m $"
   ]
  },
  {
   "cell_type": "markdown",
   "id": "1b19edba",
   "metadata": {},
   "source": [
    "N = 16, m = 25"
   ]
  },
  {
   "cell_type": "markdown",
   "id": "6bf70164",
   "metadata": {},
   "source": [
    "Метод: Метод минимальных поправок,\\\n",
    "B –диагональная матрица, содержащая  главную диагональ матрицы A и наддиагональ матрицы А"
   ]
  },
  {
   "cell_type": "markdown",
   "id": "05bd875b",
   "metadata": {},
   "source": [
    "Создадим матрицу A и B"
   ]
  },
  {
   "cell_type": "code",
   "execution_count": 20,
   "id": "eaf9884c",
   "metadata": {},
   "outputs": [],
   "source": [
    "m = 25\n",
    "beta = (66-16+1)*m\n",
    "A = np.array([[(np.cos(i+j)/(0.1*beta) + 0.1*beta*np.exp(-(i-j)**2)) for j in range (m)] for i in range (m)])"
   ]
  },
  {
   "cell_type": "code",
   "execution_count": 21,
   "id": "e2aff22e",
   "metadata": {},
   "outputs": [],
   "source": [
    "B1 = np.eye(m) + np.eye(m, k=1)\n",
    "B = np.multiply(B1, A)\n",
    "x = np.array([16]*m)\n",
    "\n",
    "\n",
    "b = A @ x"
   ]
  },
  {
   "cell_type": "markdown",
   "id": "3755faf3",
   "metadata": {},
   "source": [
    "Напишем что-то вроде метода прогонки. Он понадобится для промежуточных вычислений в основном методе."
   ]
  },
  {
   "cell_type": "code",
   "execution_count": 43,
   "id": "0214c68a",
   "metadata": {},
   "outputs": [],
   "source": [
    "def diag(A, b):\n",
    "    n = A.shape[0]-1\n",
    "    x = np.zeros(n+1)\n",
    "    x[n] = b[n] / A[n][n]\n",
    "    for i in range(1, n+1):\n",
    "        x[n-i] = (b[n-i] - A[n-i][n-i+1]*x[n-i+1])/A[n-i][n-i]\n",
    "    return x"
   ]
  },
  {
   "cell_type": "markdown",
   "id": "e1f380cf",
   "metadata": {},
   "source": [
    "Метод минимальных поправок:"
   ]
  },
  {
   "cell_type": "code",
   "execution_count": 44,
   "id": "a7a15aea",
   "metadata": {},
   "outputs": [],
   "source": [
    "def min_change(A, B, b, eps):\n",
    "    x = np.zeros(m)\n",
    "    it = 0\n",
    "    r = A@x - b\n",
    "    omega = diag(B,r)\n",
    "    nu = diag(B, A@omega)\n",
    "    tau = np.dot(A@omega, omega)/np.dot(nu, A@omega)\n",
    "    buf = diag(B, B@x - tau * r)\n",
    "    while (lg.norm(buf-x, ord = 2) > eps):\n",
    "        x = buf\n",
    "        r = A@x - b\n",
    "        omega -= tau * nu\n",
    "        nu = diag(B, A@omega)\n",
    "        tau = (np.dot(A@omega, omega)/np.dot(nu, A@omega))\n",
    "        buf = diag(B, B@x - tau*r)\n",
    "        it += 1\n",
    "    return (x, it)"
   ]
  },
  {
   "cell_type": "code",
   "execution_count": 45,
   "id": "9e1cf92e",
   "metadata": {},
   "outputs": [
    {
     "name": "stdout",
     "output_type": "stream",
     "text": [
      "(array([16., 16., 16., 16., 16., 16., 16., 16., 16., 16., 16., 16., 16.,\n",
      "       16., 16., 16., 16., 16., 16., 16., 16., 16., 16., 16., 16.]), 36)\n"
     ]
    }
   ],
   "source": [
    "print(min_change(A, B, b, 1e-12))"
   ]
  },
  {
   "cell_type": "markdown",
   "id": "7dd4016f",
   "metadata": {},
   "source": [
    "Ответ полностью совпадает."
   ]
  },
  {
   "cell_type": "code",
   "execution_count": null,
   "id": "60973487",
   "metadata": {},
   "outputs": [],
   "source": []
  }
 ],
 "metadata": {
  "kernelspec": {
   "display_name": "Python 3 (ipykernel)",
   "language": "python",
   "name": "python3"
  },
  "language_info": {
   "codemirror_mode": {
    "name": "ipython",
    "version": 3
   },
   "file_extension": ".py",
   "mimetype": "text/x-python",
   "name": "python",
   "nbconvert_exporter": "python",
   "pygments_lexer": "ipython3",
   "version": "3.9.10"
  }
 },
 "nbformat": 4,
 "nbformat_minor": 5
}
